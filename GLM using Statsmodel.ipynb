{
 "cells": [
  {
   "cell_type": "markdown",
   "metadata": {},
   "source": [
    "# Simple guide to exract model summary,standard error coefficeints,odds ratio and covariance matrix using statsmodels"
   ]
  },
  {
   "cell_type": "code",
   "execution_count": 1,
   "metadata": {},
   "outputs": [],
   "source": [
    "from sklearn.linear_model import LogisticRegression\n",
    "from sklearn import datasets\n",
    "import numpy as np\n",
    "\n",
    "iris = datasets.load_iris()\n",
    "#print(iris)"
   ]
  },
  {
   "cell_type": "code",
   "execution_count": 2,
   "metadata": {},
   "outputs": [],
   "source": [
    "X = iris[\"data\"][:,]  # petal width\n",
    "y = (iris[\"target\"]==2).astype(np.int)"
   ]
  },
  {
   "cell_type": "code",
   "execution_count": 3,
   "metadata": {},
   "outputs": [
    {
     "name": "stderr",
     "output_type": "stream",
     "text": [
      "C:\\Users\\inpganavar\\AppData\\Local\\Continuum\\anaconda3\\lib\\site-packages\\statsmodels\\compat\\pandas.py:56: FutureWarning: The pandas.core.datetools module is deprecated and will be removed in a future version. Please use the pandas.tseries module instead.\n",
      "  from pandas.core import datetools\n"
     ]
    }
   ],
   "source": [
    "import statsmodels.api as sm\n",
    "\n",
    "#fitting logistic regression to iris data set using statsmodels GLM\n",
    "#We are fitting with default family function and link function\n",
    "# Refer to the link for family of functions that you can try with GLM\n",
    "# http://www.statsmodels.org/stable/glm.html#examples\n",
    "model = sm.GLM(y, X).fit()"
   ]
  },
  {
   "cell_type": "code",
   "execution_count": 4,
   "metadata": {},
   "outputs": [
    {
     "name": "stdout",
     "output_type": "stream",
     "text": [
      "                  Generalized Linear Model Regression Results                  \n",
      "===============================================================================\n",
      "Dep. Variable:                      y   No. Observations:                   150\n",
      "Model:                            GLM   Df Residuals:                       146\n",
      "Model Family:                Gaussian   Df Model:                             3\n",
      "Link Function:               identity   Scale:              0.09121510438801805\n",
      "Method:                          IRLS   Log-Likelihood:                 -31.224\n",
      "Date:                Thu, 05 Apr 2018   Deviance:                        13.317\n",
      "Time:                        11:34:24   Pearson chi2:                      13.3\n",
      "No. Iterations:                     2                                          \n",
      "==============================================================================\n",
      "                 coef    std err          z      P>|z|      [0.025      0.975]\n",
      "------------------------------------------------------------------------------\n",
      "x1            -0.1448      0.068     -2.130      0.033      -0.278      -0.012\n",
      "x2             0.1374      0.079      1.744      0.081      -0.017       0.292\n",
      "x3             0.0177      0.078      0.225      0.822      -0.136       0.171\n",
      "x4             0.5829      0.129      4.504      0.000       0.329       0.836\n",
      "==============================================================================\n"
     ]
    }
   ],
   "source": [
    "#Model object has several attributes,let's us print the model symmmary as of now\n",
    "#refer to the following link for model object charcteristics : http://www.statsmodels.org/stable/generated/statsmodels.genmod.generalized_linear_model.GLMResults.html#statsmodels.genmod.generalized_linear_model.GLMResults\n",
    "print(model.summary())"
   ]
  },
  {
   "cell_type": "code",
   "execution_count": 5,
   "metadata": {},
   "outputs": [
    {
     "data": {
      "text/plain": [
       "array([0.06799117, 0.07878605, 0.07838033, 0.12939471])"
      ]
     },
     "execution_count": 5,
     "metadata": {},
     "output_type": "execute_result"
    }
   ],
   "source": [
    "#standard error of coefficient can be retrieved by\n",
    "model.bse"
   ]
  },
  {
   "cell_type": "code",
   "execution_count": 6,
   "metadata": {},
   "outputs": [
    {
     "data": {
      "text/plain": [
       "array([[ 0.0046228 , -0.00519157, -0.00428013,  0.00418749],\n",
       "       [-0.00519157,  0.00620724,  0.00416021, -0.00350695],\n",
       "       [-0.00428013,  0.00416021,  0.00614348, -0.00900856],\n",
       "       [ 0.00418749, -0.00350695, -0.00900856,  0.01674299]])"
      ]
     },
     "execution_count": 6,
     "metadata": {},
     "output_type": "execute_result"
    }
   ],
   "source": [
    "#model variance/covariance parameters can be retrieved by\n",
    "model.cov_params()"
   ]
  },
  {
   "cell_type": "code",
   "execution_count": 7,
   "metadata": {},
   "outputs": [
    {
     "data": {
      "text/plain": [
       "array([0.86520448, 1.1472691 , 1.0178213 , 1.79115056])"
      ]
     },
     "execution_count": 7,
     "metadata": {},
     "output_type": "execute_result"
    }
   ],
   "source": [
    "#to get the odds ratio,\n",
    "np.exp(model.params)"
   ]
  },
  {
   "cell_type": "code",
   "execution_count": 8,
   "metadata": {},
   "outputs": [
    {
     "name": "stdout",
     "output_type": "stream",
     "text": [
      "[[-0.27804964 -0.01152916]\n",
      " [-0.01703341  0.29180225]\n",
      " [-0.13595826  0.17128698]\n",
      " [ 0.3292492   0.83646716]]\n"
     ]
    }
   ],
   "source": [
    "#to get the confidence intervals\n",
    "print(model.conf_int())"
   ]
  },
  {
   "cell_type": "code",
   "execution_count": null,
   "metadata": {},
   "outputs": [],
   "source": []
  }
 ],
 "metadata": {
  "kernelspec": {
   "display_name": "Python 3",
   "language": "python",
   "name": "python3"
  },
  "language_info": {
   "codemirror_mode": {
    "name": "ipython",
    "version": 3
   },
   "file_extension": ".py",
   "mimetype": "text/x-python",
   "name": "python",
   "nbconvert_exporter": "python",
   "pygments_lexer": "ipython3",
   "version": "3.6.4"
  }
 },
 "nbformat": 4,
 "nbformat_minor": 2
}
